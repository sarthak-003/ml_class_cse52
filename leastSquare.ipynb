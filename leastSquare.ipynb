{
 "cells": [
  {
   "cell_type": "code",
   "execution_count": 1,
   "id": "78019a80-8dbd-469c-99a5-b3498704a8c4",
   "metadata": {},
   "outputs": [],
   "source": [
    "import numpy as np\n",
    "import matplotlib.pyplot as plt\n",
    "from sklearn.linear_model import LinearRegression\n"
   ]
  },
  {
   "cell_type": "code",
   "execution_count": 2,
   "id": "f49f74d8-9bae-4291-a82b-952941e076de",
   "metadata": {},
   "outputs": [],
   "source": [
    "X = np.array([[1,1,1,1,1],[1,3,4,6,7],[10,14,15,18,20]])\n",
    "Y = np.array([9,10,13,14,16])"
   ]
  },
  {
   "cell_type": "code",
   "execution_count": null,
   "id": "6508a7db-5a08-4b11-b4a1-7b7461d497f5",
   "metadata": {},
   "outputs": [],
   "source": [
    "\n"
   ]
  },
  {
   "cell_type": "code",
   "execution_count": 3,
   "id": "e370d64d-946c-4a80-b17f-8caf10bf7930",
   "metadata": {},
   "outputs": [
    {
     "name": "stdout",
     "output_type": "stream",
     "text": [
      "[[   5   21   77]\n",
      " [  21  111  360]\n",
      " [  77  360 1245]]\n"
     ]
    },
    {
     "data": {
      "text/plain": [
       "51.000000000009216"
      ]
     },
     "execution_count": 3,
     "metadata": {},
     "output_type": "execute_result"
    }
   ],
   "source": [
    "t = X @ X.T\n",
    "print(t)\n",
    "np.linalg.det(t)"
   ]
  },
  {
   "cell_type": "code",
   "execution_count": null,
   "id": "5cc5a1ad-f4eb-41c7-964f-83512a62c139",
   "metadata": {},
   "outputs": [],
   "source": [
    "\n"
   ]
  },
  {
   "cell_type": "code",
   "execution_count": 4,
   "id": "6231fc7e-6d37-4151-81c8-c9ff51d63673",
   "metadata": {},
   "outputs": [
    {
     "data": {
      "text/plain": [
       "array([[168.52941176,  30.88235294, -19.35294118],\n",
       "       [ 30.88235294,   5.80392157,  -3.58823529],\n",
       "       [-19.35294118,  -3.58823529,   2.23529412]])"
      ]
     },
     "execution_count": 4,
     "metadata": {},
     "output_type": "execute_result"
    }
   ],
   "source": [
    "np.linalg.inv(t)"
   ]
  },
  {
   "cell_type": "code",
   "execution_count": 5,
   "id": "1a2ef502-ddf9-4f35-94c1-3adef61147b3",
   "metadata": {},
   "outputs": [],
   "source": [
    "w = np.linalg.pinv(X @ X.T) @ X @ np.expand_dims(Y,axis = 1)"
   ]
  },
  {
   "cell_type": "code",
   "execution_count": 6,
   "id": "c74adb01-438b-40ab-9c96-3bc7cef37e0b",
   "metadata": {},
   "outputs": [
    {
     "data": {
      "text/plain": [
       "array([[17.17647059],\n",
       "       [ 2.96078431],\n",
       "       [-1.11764706]])"
      ]
     },
     "execution_count": 6,
     "metadata": {},
     "output_type": "execute_result"
    }
   ],
   "source": [
    "w"
   ]
  },
  {
   "cell_type": "code",
   "execution_count": 7,
   "id": "97eb99bd-def8-4e2d-9825-82f949dfd65e",
   "metadata": {},
   "outputs": [],
   "source": [
    "x1 = np.array([1,1,20])"
   ]
  },
  {
   "cell_type": "code",
   "execution_count": 8,
   "id": "cd50a5a3-5fd8-4465-898c-457b9386ee02",
   "metadata": {},
   "outputs": [
    {
     "data": {
      "text/plain": [
       "array([-2.21568627])"
      ]
     },
     "execution_count": 8,
     "metadata": {},
     "output_type": "execute_result"
    }
   ],
   "source": [
    "x1.T @ w"
   ]
  },
  {
   "cell_type": "code",
   "execution_count": null,
   "id": "1a1a6671-360e-49b6-af1b-44c6cf9989c3",
   "metadata": {},
   "outputs": [],
   "source": []
  },
  {
   "cell_type": "code",
   "execution_count": null,
   "id": "bc710f03-470b-4f67-928c-fc9982851ff7",
   "metadata": {},
   "outputs": [],
   "source": []
  },
  {
   "cell_type": "code",
   "execution_count": null,
   "id": "1b7c3dd3-93de-48c5-9522-82a2470d7d57",
   "metadata": {},
   "outputs": [],
   "source": []
  }
 ],
 "metadata": {
  "kernelspec": {
   "display_name": "Python 3",
   "language": "python",
   "name": "python3"
  },
  "language_info": {
   "codemirror_mode": {
    "name": "ipython",
    "version": 3
   },
   "file_extension": ".py",
   "mimetype": "text/x-python",
   "name": "python",
   "nbconvert_exporter": "python",
   "pygments_lexer": "ipython3",
   "version": "3.11.4"
  }
 },
 "nbformat": 4,
 "nbformat_minor": 5
}
